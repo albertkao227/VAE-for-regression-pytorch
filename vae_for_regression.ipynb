{
 "cells": [
  {
   "cell_type": "markdown",
   "metadata": {},
   "source": [
    "# Variational Autoencoder for Regression - WIP\n",
    "\n",
    "- Paper https://arxiv.org/abs/1904.05948\n",
    "\n",
    "- Repository https://github.com/QingyuZhao/VAE-for-Regression\n"
   ]
  },
  {
   "cell_type": "code",
   "execution_count": 1,
   "metadata": {},
   "outputs": [],
   "source": [
    "import numpy as np \n",
    "import matplotlib.pyplot as plt\n",
    "import torch\n",
    "import torch.nn as nn\n",
    "import torch.nn.functional as F\n",
    "from torch.nn.utils import weight_norm\n",
    "from torch.utils.data import Dataset, DataLoader\n",
    "from sklearn.manifold import MDS\n",
    "from sklearn.model_selection import StratifiedKFold\n",
    "from sklearn.metrics import mean_squared_error, r2_score "
   ]
  },
  {
   "cell_type": "code",
   "execution_count": 2,
   "metadata": {},
   "outputs": [],
   "source": [
    "device = torch.device('cuda' if torch.cuda.is_available() else 'cpu')"
   ]
  },
  {
   "cell_type": "markdown",
   "metadata": {},
   "source": [
    "## Load Example Data"
   ]
  },
  {
   "cell_type": "code",
   "execution_count": 3,
   "metadata": {},
   "outputs": [],
   "source": [
    "# Load Toy Example Data\n",
    "training_feature = np.loadtxt('data/X.txt')\n",
    "training_feature.shape\n",
    "\n",
    "Y = np.loadtxt('data/Y.txt')\n",
    "ground_truth_r = Y\n",
    "\n",
    "np.random.seed(seed=0)\n",
    "\n",
    "original_dim = training_feature.shape[1]\n",
    "num_train = training_feature.shape[0]"
   ]
  },
  {
   "cell_type": "code",
   "execution_count": 4,
   "metadata": {},
   "outputs": [],
   "source": [
    "def sampling(mean, log_var):\n",
    "    '''\n",
    "    Arguments:\n",
    "        args (tensor): mean and log of variance of Q(z|X)\n",
    "    Returns:\n",
    "        z (tensor): sampled latent vector\n",
    "    '''\n",
    "    #print(type(mean), type(log_var))\n",
    "    epsilon = torch.randn_like(mean) \n",
    "    return mean + torch.exp(0.5*log_var)*epsilon "
   ]
  },
  {
   "cell_type": "markdown",
   "metadata": {},
   "source": [
    "## Build VAE Regression Model "
   ]
  },
  {
   "cell_type": "code",
   "execution_count": 5,
   "metadata": {},
   "outputs": [],
   "source": [
    "class Encoder(nn.Module):\n",
    "    def __init__(self, input_shape_x, intermediate_dim, latent_dim):\n",
    "        super(Encoder, self).__init__()\n",
    "        self.dropout = nn.Dropout(p=0.25)\n",
    "        self.fc1 = nn.Linear(input_shape_x, 128)\n",
    "        self.act1 = nn.Tanh()\n",
    "        self.fc2 = nn.Linear(128, intermediate_dim)\n",
    "        self.act2 = nn.Tanh() \n",
    "        \n",
    "        # posterior on Y; probabilistic regressor \n",
    "        self.r_mean_layer = nn.Linear(intermediate_dim, 1)\n",
    "        self.r_logvar_layer = nn.Linear(intermediate_dim, 1) \n",
    "\n",
    "        # q(z|x) \n",
    "        self.z_mean_layer = nn.Linear(intermediate_dim, latent_dim)\n",
    "        self.z_logvar_layer = nn.Linear(intermediate_dim, latent_dim)\n",
    "\n",
    "        # latent generator \n",
    "        self.gen_z = weight_norm(nn.Linear(1, latent_dim))\n",
    "\n",
    "\n",
    "    def forward(self, x):\n",
    "        x = self.dropout(x)\n",
    "        x = self.act1(self.fc1(x))\n",
    "        x = self.act2(self.fc2(x))\n",
    "\n",
    "        r_mean = self.r_mean_layer(x)\n",
    "        r_logvar = self.r_logvar_layer(x)\n",
    "\n",
    "        z_mean = self.z_mean_layer(x)\n",
    "        z_logvar = self.z_logvar_layer(x)\n",
    "                \n",
    "        # reparameterization trick\n",
    "        r = sampling(r_mean, r_logvar)\n",
    "        z = sampling(z_mean, z_logvar)\n",
    "\n",
    "        pz_mean = self.gen_z(r) \n",
    "\n",
    "        return r_mean, r_logvar, r, z_mean, z_logvar, z, pz_mean\n"
   ]
  },
  {
   "cell_type": "code",
   "execution_count": 6,
   "metadata": {},
   "outputs": [],
   "source": [
    "class Decoder(nn.Module):\n",
    "    def __init__(self, input_shape_x, intermediate_dim, latent_dim):\n",
    "        super(Decoder, self).__init__()\n",
    "        self.fc1 = nn.Linear(latent_dim, intermediate_dim)\n",
    "        self.act1 = nn.Tanh()\n",
    "        self.fc2 = nn.Linear(intermediate_dim, 128)\n",
    "        self.act2 = nn.Tanh()\n",
    "        self.fc3 = nn.Linear(128, input_shape_x)\n",
    "\n",
    "    \n",
    "    def forward(self, x):\n",
    "        x = self.act1(self.fc1(x))\n",
    "        x = self.act2(self.fc2(x))\n",
    "        x = self.fc3(x)\n",
    "        return x "
   ]
  },
  {
   "cell_type": "markdown",
   "metadata": {},
   "source": [
    "## Dataset "
   ]
  },
  {
   "cell_type": "code",
   "execution_count": 7,
   "metadata": {},
   "outputs": [],
   "source": [
    "class VAEDataset(Dataset):\n",
    "    def __init__(self, images, labels):\n",
    "        self.images = torch.Tensor(images)\n",
    "        self.labels = torch.Tensor(labels) \n",
    "    def __len__(self):\n",
    "        return len(self.images)\n",
    "    def __getitem__(self, idx):\n",
    "        imgs = self.images[idx]\n",
    "        lbls = self.labels[idx]\n",
    "        return imgs, lbls "
   ]
  },
  {
   "cell_type": "markdown",
   "metadata": {},
   "source": [
    "## Hyperparameters"
   ]
  },
  {
   "cell_type": "code",
   "execution_count": 8,
   "metadata": {},
   "outputs": [],
   "source": [
    "\n",
    "intermidiate_dim = 32\n",
    "batch_size = 64\n",
    "latent_dim = 8\n",
    "epochs = 100\n",
    "lr = 0.001\n",
    "mse = nn.MSELoss()"
   ]
  },
  {
   "cell_type": "markdown",
   "metadata": {},
   "source": [
    "## Loss Function"
   ]
  },
  {
   "cell_type": "code",
   "execution_count": 9,
   "metadata": {},
   "outputs": [],
   "source": [
    "def loss_function(inputs_x, outputs, inputs_r, r_mean, r_logvar, z_mean, z_log_var,  pz_mean):\n",
    "    \n",
    "    reconstruction_loss = mse(inputs_x, outputs)\n",
    "    kl_loss = 1 + z_logvar - torch.square(z_mean - pz_mean) - torch.exp(z_logvar)\n",
    "    kl_loss = -0.5 * torch.sum(kl_loss) \n",
    "        \n",
    "    label_loss = torch.divide(0.5 * torch.square(r_mean - inputs_r), torch.exp(r_logvar)) +  0.5 * r_logvar\n",
    "    return torch.mean(reconstruction_loss + kl_loss + label_loss)"
   ]
  },
  {
   "cell_type": "code",
   "execution_count": 10,
   "metadata": {},
   "outputs": [
    {
     "name": "stdout",
     "output_type": "stream",
     "text": [
      "Number of records: 245\n"
     ]
    }
   ],
   "source": [
    "print('Number of records:', len(ground_truth_r)) \n",
    "ground_truth_r = np.array(ground_truth_r).reshape(-1, 1)"
   ]
  },
  {
   "cell_type": "markdown",
   "metadata": {},
   "source": [
    "## Training"
   ]
  },
  {
   "cell_type": "code",
   "execution_count": 11,
   "metadata": {},
   "outputs": [
    {
     "name": "stdout",
     "output_type": "stream",
     "text": [
      "Epoch: 0    VAE Loss: 70.40030670166016    RMSE Loss: 1.1411375999450684\n",
      "Epoch: 10    VAE Loss: 33.626068115234375    RMSE Loss: 1.0750170946121216\n",
      "Epoch: 20    VAE Loss: 10.626846313476562    RMSE Loss: 1.0985153913497925\n",
      "Epoch: 30    VAE Loss: 7.141457557678223    RMSE Loss: 0.9973481893539429\n",
      "Epoch: 40    VAE Loss: 7.111352443695068    RMSE Loss: 0.8620398640632629\n",
      "Epoch: 50    VAE Loss: 4.480567932128906    RMSE Loss: 0.7260765433311462\n",
      "Epoch: 60    VAE Loss: 3.979712963104248    RMSE Loss: 0.6041503548622131\n",
      "Epoch: 70    VAE Loss: 3.064650058746338    RMSE Loss: 0.543070912361145\n",
      "Epoch: 80    VAE Loss: 2.956231117248535    RMSE Loss: 0.5351529121398926\n",
      "Epoch: 90    VAE Loss: 2.1602466106414795    RMSE Loss: 0.4720814824104309\n",
      "Epoch: 0    VAE Loss: 38.35383987426758    RMSE Loss: 1.4672297239303589\n",
      "Epoch: 10    VAE Loss: 11.623821258544922    RMSE Loss: 1.177492618560791\n",
      "Epoch: 20    VAE Loss: 5.817833423614502    RMSE Loss: 1.0637483596801758\n",
      "Epoch: 30    VAE Loss: 4.1408305168151855    RMSE Loss: 0.8933799862861633\n",
      "Epoch: 40    VAE Loss: 2.8529903888702393    RMSE Loss: 0.7772424817085266\n",
      "Epoch: 50    VAE Loss: 2.1627395153045654    RMSE Loss: 0.624949038028717\n",
      "Epoch: 60    VAE Loss: 1.667305588722229    RMSE Loss: 0.6495761275291443\n",
      "Epoch: 70    VAE Loss: 1.000778079032898    RMSE Loss: 0.6261477470397949\n",
      "Epoch: 80    VAE Loss: 1.1700248718261719    RMSE Loss: 0.5617471933364868\n",
      "Epoch: 90    VAE Loss: 0.6860558986663818    RMSE Loss: 0.5355966091156006\n",
      "Epoch: 0    VAE Loss: 72.54518127441406    RMSE Loss: 1.0052785873413086\n",
      "Epoch: 10    VAE Loss: 45.56379318237305    RMSE Loss: 1.0751935243606567\n",
      "Epoch: 20    VAE Loss: 18.49493408203125    RMSE Loss: 1.1398459672927856\n",
      "Epoch: 30    VAE Loss: 8.748311996459961    RMSE Loss: 1.1245098114013672\n",
      "Epoch: 40    VAE Loss: 6.866682052612305    RMSE Loss: 1.0144773721694946\n",
      "Epoch: 50    VAE Loss: 4.8485822677612305    RMSE Loss: 0.910142719745636\n",
      "Epoch: 60    VAE Loss: 4.732871055603027    RMSE Loss: 0.7949437499046326\n",
      "Epoch: 70    VAE Loss: 2.7988245487213135    RMSE Loss: 0.6647277474403381\n",
      "Epoch: 80    VAE Loss: 2.8211348056793213    RMSE Loss: 0.6724288463592529\n",
      "Epoch: 90    VAE Loss: 2.8762428760528564    RMSE Loss: 0.7011846303939819\n",
      "Epoch: 0    VAE Loss: 94.66082000732422    RMSE Loss: 0.9145131707191467\n",
      "Epoch: 10    VAE Loss: 36.57076644897461    RMSE Loss: 0.9385949373245239\n",
      "Epoch: 20    VAE Loss: 14.463566780090332    RMSE Loss: 1.0124881267547607\n",
      "Epoch: 30    VAE Loss: 11.08712100982666    RMSE Loss: 0.9399350881576538\n",
      "Epoch: 40    VAE Loss: 8.730058670043945    RMSE Loss: 0.8729148507118225\n",
      "Epoch: 50    VAE Loss: 5.655872821807861    RMSE Loss: 0.7897965312004089\n",
      "Epoch: 60    VAE Loss: 4.209357738494873    RMSE Loss: 0.7394123673439026\n",
      "Epoch: 70    VAE Loss: 3.7778398990631104    RMSE Loss: 0.6908055543899536\n",
      "Epoch: 80    VAE Loss: 2.6957619190216064    RMSE Loss: 0.6323245763778687\n",
      "Epoch: 90    VAE Loss: 2.2346346378326416    RMSE Loss: 0.5545128583908081\n",
      "Epoch: 0    VAE Loss: 93.13445281982422    RMSE Loss: 1.0213651657104492\n",
      "Epoch: 10    VAE Loss: 54.08644485473633    RMSE Loss: 0.8780920505523682\n",
      "Epoch: 20    VAE Loss: 18.335987091064453    RMSE Loss: 0.8676304221153259\n",
      "Epoch: 30    VAE Loss: 10.900117874145508    RMSE Loss: 0.8261467814445496\n",
      "Epoch: 40    VAE Loss: 6.131688594818115    RMSE Loss: 0.7711005806922913\n",
      "Epoch: 50    VAE Loss: 7.1018548011779785    RMSE Loss: 0.7173953056335449\n",
      "Epoch: 60    VAE Loss: 5.195407867431641    RMSE Loss: 0.5767649412155151\n",
      "Epoch: 70    VAE Loss: 3.794508218765259    RMSE Loss: 0.5389677882194519\n",
      "Epoch: 80    VAE Loss: 3.5570735931396484    RMSE Loss: 0.5597461462020874\n",
      "Epoch: 90    VAE Loss: 2.154789686203003    RMSE Loss: 0.52183598279953\n",
      "Epoch: 0    VAE Loss: 76.78973388671875    RMSE Loss: 1.0074816942214966\n",
      "Epoch: 10    VAE Loss: 40.10997009277344    RMSE Loss: 1.0776234865188599\n",
      "Epoch: 20    VAE Loss: 18.095766067504883    RMSE Loss: 1.0255472660064697\n",
      "Epoch: 30    VAE Loss: 12.270729064941406    RMSE Loss: 0.9721895456314087\n",
      "Epoch: 40    VAE Loss: 9.346932411193848    RMSE Loss: 0.90796959400177\n",
      "Epoch: 50    VAE Loss: 7.049243927001953    RMSE Loss: 0.8089889883995056\n",
      "Epoch: 60    VAE Loss: 5.442486763000488    RMSE Loss: 0.708536684513092\n",
      "Epoch: 70    VAE Loss: 4.9820556640625    RMSE Loss: 0.6555535793304443\n",
      "Epoch: 80    VAE Loss: 5.39365291595459    RMSE Loss: 0.6329455971717834\n",
      "Epoch: 90    VAE Loss: 3.5746846199035645    RMSE Loss: 0.6079866290092468\n",
      "Epoch: 0    VAE Loss: 97.95230102539062    RMSE Loss: 1.2608128786087036\n",
      "Epoch: 10    VAE Loss: 53.37986755371094    RMSE Loss: 1.1673603057861328\n",
      "Epoch: 20    VAE Loss: 24.448318481445312    RMSE Loss: 1.119414210319519\n",
      "Epoch: 30    VAE Loss: 17.161418914794922    RMSE Loss: 1.104641079902649\n",
      "Epoch: 40    VAE Loss: 10.379403114318848    RMSE Loss: 1.0216636657714844\n",
      "Epoch: 50    VAE Loss: 6.480523586273193    RMSE Loss: 0.937954843044281\n",
      "Epoch: 60    VAE Loss: 5.588039875030518    RMSE Loss: 0.842525839805603\n",
      "Epoch: 70    VAE Loss: 4.8863420486450195    RMSE Loss: 0.7492218613624573\n",
      "Epoch: 80    VAE Loss: 4.389488220214844    RMSE Loss: 0.6844063401222229\n",
      "Epoch: 90    VAE Loss: 2.9795637130737305    RMSE Loss: 0.6327261328697205\n",
      "Epoch: 0    VAE Loss: 75.38956451416016    RMSE Loss: 0.8234111070632935\n",
      "Epoch: 10    VAE Loss: 33.980804443359375    RMSE Loss: 0.7374763488769531\n",
      "Epoch: 20    VAE Loss: 11.990160942077637    RMSE Loss: 0.6815096735954285\n",
      "Epoch: 30    VAE Loss: 10.850905418395996    RMSE Loss: 0.6625451445579529\n",
      "Epoch: 40    VAE Loss: 7.678009986877441    RMSE Loss: 0.6057562828063965\n",
      "Epoch: 50    VAE Loss: 5.38988733291626    RMSE Loss: 0.615283727645874\n",
      "Epoch: 60    VAE Loss: 3.4921815395355225    RMSE Loss: 0.6537132859230042\n",
      "Epoch: 70    VAE Loss: 4.5793023109436035    RMSE Loss: 0.7410452365875244\n",
      "Epoch: 80    VAE Loss: 2.5457749366760254    RMSE Loss: 0.6428037881851196\n",
      "Epoch: 90    VAE Loss: 1.7774484157562256    RMSE Loss: 0.6861671805381775\n",
      "Epoch: 0    VAE Loss: 56.57518005371094    RMSE Loss: 0.8484213948249817\n",
      "Epoch: 10    VAE Loss: 33.41469955444336    RMSE Loss: 0.8005836009979248\n",
      "Epoch: 20    VAE Loss: 17.682065963745117    RMSE Loss: 0.7160598039627075\n",
      "Epoch: 30    VAE Loss: 7.3906755447387695    RMSE Loss: 0.6809316277503967\n",
      "Epoch: 40    VAE Loss: 5.770911693572998    RMSE Loss: 0.5895656943321228\n",
      "Epoch: 50    VAE Loss: 5.2177958488464355    RMSE Loss: 0.5546755194664001\n",
      "Epoch: 60    VAE Loss: 2.9209516048431396    RMSE Loss: 0.5121274590492249\n",
      "Epoch: 70    VAE Loss: 2.3929996490478516    RMSE Loss: 0.5107839107513428\n",
      "Epoch: 80    VAE Loss: 2.30204439163208    RMSE Loss: 0.566766083240509\n",
      "Epoch: 90    VAE Loss: 2.987455129623413    RMSE Loss: 0.5618425011634827\n",
      "Epoch: 0    VAE Loss: 94.72135925292969    RMSE Loss: 1.1296988725662231\n",
      "Epoch: 10    VAE Loss: 28.78542137145996    RMSE Loss: 0.8405083417892456\n",
      "Epoch: 20    VAE Loss: 23.54950714111328    RMSE Loss: 0.7912782430648804\n",
      "Epoch: 30    VAE Loss: 6.674708843231201    RMSE Loss: 0.6778838634490967\n",
      "Epoch: 40    VAE Loss: 10.472782135009766    RMSE Loss: 0.636587917804718\n",
      "Epoch: 50    VAE Loss: 5.700343608856201    RMSE Loss: 0.5158915519714355\n",
      "Epoch: 60    VAE Loss: 4.970467567443848    RMSE Loss: 0.4428073763847351\n",
      "Epoch: 70    VAE Loss: 4.094536304473877    RMSE Loss: 0.4361266493797302\n",
      "Epoch: 80    VAE Loss: 3.248918294906616    RMSE Loss: 0.458774209022522\n",
      "Epoch: 90    VAE Loss: 3.0074472427368164    RMSE Loss: 0.41443800926208496\n"
     ]
    }
   ],
   "source": [
    "\n",
    "np.random.seed(0)\n",
    "skf = StratifiedKFold(n_splits=10)\n",
    "pred = np.zeros((ground_truth_r.shape))\n",
    "fake = np.zeros((ground_truth_r.shape[0]))\n",
    "fake[:300] = 1\n",
    "\n",
    "\n",
    "# Run 10-fold CV\n",
    "for train_idx, test_idx in skf.split(training_feature, fake):\n",
    "    \n",
    "    encoder = Encoder(original_dim, 32, 8).to(device)\n",
    "    decoder = Decoder(original_dim, 32, 8).to(device)     \n",
    "    \n",
    "    optim_params = list(encoder.parameters()) + list(decoder.parameters())\n",
    "    optimizer = torch.optim.Adam(optim_params , lr=lr)\n",
    "    \n",
    "    training_feature_sk = training_feature[train_idx,:]\n",
    "    training_score = ground_truth_r[train_idx]\n",
    "    testing_feature_sk = training_feature[test_idx,:]\n",
    "    testing_score = ground_truth_r[test_idx]    \n",
    "    \n",
    "    train = VAEDataset(training_feature_sk, training_score)\n",
    "    test = VAEDataset(testing_feature_sk, testing_score)\n",
    "    train_dataloader = DataLoader(train, batch_size=batch_size, shuffle=True) \n",
    "    test_dataloader = DataLoader(test, batch_size=batch_size, shuffle=False)     \n",
    "    \n",
    "    for epoch in range(epochs):\n",
    "        \n",
    "        for idx, data in enumerate(train_dataloader):\n",
    "        \n",
    "            imgs, labels = data\n",
    "            imgs = imgs.to(device)\n",
    "            labels = labels.to(device)\n",
    "            \n",
    "            r_mean, r_logvar, r, z_mean, z_logvar, z, pz_mean = encoder(imgs) \n",
    "            \n",
    "            recon_imgs = decoder(z)\n",
    "            \n",
    "            #print(r_mean.shape, labels.shape)\n",
    "            \n",
    "            vae_loss = loss_function(imgs, recon_imgs, labels, r_mean, r_logvar, z_mean, z_logvar, pz_mean)\n",
    "            \n",
    "            optimizer.zero_grad()\n",
    "            \n",
    "            vae_loss.backward()\n",
    "            \n",
    "            optimizer.step()\n",
    "            \n",
    "        with torch.no_grad():\n",
    "\n",
    "            x = torch.Tensor(testing_feature_sk).to(device)\n",
    "            r_mean, r_logvar, r, z_mean, z_logvar, z, pz_mean = encoder(x)\n",
    "\n",
    "            pred[test_idx] = r_mean.cpu().detach()\n",
    "            rmse_loss = np.sqrt(mse(r_mean.cpu().detach(), torch.Tensor(testing_score)))\n",
    "            \n",
    "            if epoch % 10 == 0:\n",
    "            \n",
    "                print(f'Epoch: {epoch}    VAE Loss: {vae_loss}    RMSE Loss: {rmse_loss}')\n",
    "            "
   ]
  },
  {
   "cell_type": "markdown",
   "metadata": {},
   "source": [
    "## Validation"
   ]
  },
  {
   "cell_type": "code",
   "execution_count": 12,
   "metadata": {},
   "outputs": [
    {
     "name": "stdout",
     "output_type": "stream",
     "text": [
      "Mean squared error: 0.356\n",
      "R2 Variance score: 0.643\n"
     ]
    },
    {
     "data": {
      "image/png": "[encoded data removed]",
      "text/plain": [
       "<Figure size 640x480 with 1 Axes>"
      ]
     },
     "metadata": {},
     "output_type": "display_data"
    }
   ],
   "source": [
    "# Mean squared error\n",
    "print(\"Mean squared error: %.3f\" % mean_squared_error(ground_truth_r, pred))\n",
    "# Explained variance score: 1 is perfect prediction\n",
    "print('R2 Variance score: %.3f' % r2_score(ground_truth_r, pred))\n",
    "\n",
    "# Plot Prediction vs. Ground-truth Y\n",
    "fig = plt.figure()\n",
    "ax = fig.add_subplot(111)\n",
    "\n",
    "ax.scatter(ground_truth_r, pred,  color='black')\n",
    "plt.xlabel('ground truth')\n",
    "plt.ylabel('prediction truth')\n",
    "ax.axis('equal');"
   ]
  },
  {
   "cell_type": "markdown",
   "metadata": {},
   "source": [
    "## Visualize Latent Space\n"
   ]
  },
  {
   "cell_type": "code",
   "execution_count": 13,
   "metadata": {},
   "outputs": [],
   "source": [
    "r_mean, r_logvar, r, z_mean, z_logvar, z, pz_mean = encoder(torch.Tensor(training_feature).to(device)) "
   ]
  },
  {
   "cell_type": "code",
   "execution_count": 14,
   "metadata": {},
   "outputs": [
    {
     "data": {
      "text/plain": [
       "(-1.9420855222103264,\n",
       " 2.3490125651986014,\n",
       " -1.2339972103792924,\n",
       " 0.7827501132582452)"
      ]
     },
     "execution_count": 14,
     "metadata": {},
     "output_type": "execute_result"
    },
    {
     "data": {
      "image/png": "[encoded data removed]",
      "text/plain": [
       "<Figure size 640x480 with 1 Axes>"
      ]
     },
     "metadata": {},
     "output_type": "display_data"
    }
   ],
   "source": [
    "\n",
    "tsne = MDS(n_components=2, random_state=0)\n",
    "X_2d = tsne.fit_transform(z_mean.cpu().detach())\n",
    "\n",
    "#%matplotlib notebook\n",
    "fig = plt.figure()\n",
    "ax = fig.add_subplot(111)\n",
    "\n",
    "ax.scatter(X_2d[:, 0], X_2d[:, 1], c=ground_truth_r)\n",
    "plt.title('TSNE visualization of latent space')\n",
    "ax.axis('equal')\n"
   ]
  },
  {
   "cell_type": "markdown",
   "metadata": {},
   "source": [
    "## Reference\n",
    "\n",
    "- https://github.com/yoonsanghyu/VAE_for_regression_PyTorch"
   ]
  }
 ],
 "metadata": {
  "kernelspec": {
   "display_name": "Python 3 (ipykernel)",
   "language": "python",
   "name": "python3"
  },
  "language_info": {
   "codemirror_mode": {
    "name": "ipython",
    "version": 3
   },
   "file_extension": ".py",
   "mimetype": "text/x-python",
   "name": "python",
   "nbconvert_exporter": "python",
   "pygments_lexer": "ipython3",
   "version": "3.10.13"
  }
 },
 "nbformat": 4,
 "nbformat_minor": 2
}
