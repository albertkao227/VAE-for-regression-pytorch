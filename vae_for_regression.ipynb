{
 "cells": [
  {
   "cell_type": "markdown",
   "metadata": {},
   "source": [
    "# Variational Autoencoder for Regression - WIP\n",
    "\n",
    "- Paper https://arxiv.org/abs/1904.05948\n",
    "\n",
    "- Repository https://github.com/QingyuZhao/VAE-for-Regression\n"
   ]
  },
  {
   "cell_type": "code",
   "execution_count": 1,
   "metadata": {},
   "outputs": [],
   "source": [
    "import numpy as np \n",
    "import matplotlib.pyplot as plt\n",
    "import torch\n",
    "import torch.nn as nn\n",
    "import torch.nn.functional as F\n",
    "from torch.nn.utils import weight_norm\n",
    "from torch.utils.data import Dataset, DataLoader\n",
    "from sklearn.manifold import MDS\n",
    "from sklearn.model_selection import StratifiedKFold\n",
    "from sklearn.metrics import mean_squared_error, r2_score "
   ]
  },
  {
   "cell_type": "code",
   "execution_count": 2,
   "metadata": {},
   "outputs": [],
   "source": [
    "device = torch.device('cuda' if torch.cuda.is_available() else 'cpu')"
   ]
  },
  {
   "cell_type": "markdown",
   "metadata": {},
   "source": [
    "## Load Example Data"
   ]
  },
  {
   "cell_type": "code",
   "execution_count": 3,
   "metadata": {},
   "outputs": [],
   "source": [
    "# Load Toy Example Data\n",
    "training_feature = np.loadtxt('data/X.txt')\n",
    "training_feature.shape\n",
    "\n",
    "Y = np.loadtxt('data/Y.txt')\n",
    "ground_truth_r = Y\n",
    "\n",
    "np.random.seed(seed=0)\n",
    "\n",
    "original_dim = training_feature.shape[1]\n",
    "num_train = training_feature.shape[0]"
   ]
  },
  {
   "cell_type": "code",
   "execution_count": 4,
   "metadata": {},
   "outputs": [],
   "source": [
    "def sampling(mean, log_var):\n",
    "    '''\n",
    "    Arguments:\n",
    "        args (tensor): mean and log of variance of Q(z|X)\n",
    "    Returns:\n",
    "        z (tensor): sampled latent vector\n",
    "    '''\n",
    "    #print(type(mean), type(log_var))\n",
    "    epsilon = torch.randn_like(mean) \n",
    "    return mean + torch.exp(0.5*log_var)*epsilon "
   ]
  },
  {
   "cell_type": "markdown",
   "metadata": {},
   "source": [
    "## Build VAE Regression Model "
   ]
  },
  {
   "cell_type": "code",
   "execution_count": 5,
   "metadata": {},
   "outputs": [],
   "source": [
    "class Encoder(nn.Module):\n",
    "    def __init__(self, input_shape_x, intermediate_dim, latent_dim):\n",
    "        super(Encoder, self).__init__()\n",
    "        self.dropout = nn.Dropout(p=0.25)\n",
    "        self.fc1 = nn.Linear(input_shape_x, 128)\n",
    "        self.act1 = nn.Tanh()\n",
    "        self.fc2 = nn.Linear(128, intermediate_dim)\n",
    "        self.act2 = nn.Tanh() \n",
    "        \n",
    "        # posterior on Y; probabilistic regressor \n",
    "        self.r_mean_layer = nn.Linear(intermediate_dim, 1)\n",
    "        self.r_logvar_layer = nn.Linear(intermediate_dim, 1) \n",
    "\n",
    "        # q(z|x) \n",
    "        self.z_mean_layer = nn.Linear(intermediate_dim, latent_dim)\n",
    "        self.z_logvar_layer = nn.Linear(intermediate_dim, latent_dim)\n",
    "\n",
    "        # latent generator \n",
    "        self.gen_z = weight_norm(nn.Linear(1, latent_dim))\n",
    "\n",
    "\n",
    "    def forward(self, x):\n",
    "        x = self.dropout(x)\n",
    "        x = self.act1(self.fc1(x))\n",
    "        x = self.act2(self.fc2(x))\n",
    "\n",
    "        r_mean = self.r_mean_layer(x)\n",
    "        r_logvar = self.r_logvar_layer(x)\n",
    "\n",
    "        z_mean = self.z_mean_layer(x)\n",
    "        z_logvar = self.z_logvar_layer(x)\n",
    "                \n",
    "        # reparameterization trick\n",
    "        r = sampling(r_mean, r_logvar)\n",
    "        z = sampling(z_mean, z_logvar)\n",
    "\n",
    "        pz_mean = self.gen_z(r) \n",
    "\n",
    "        return r_mean, r_logvar, r, z_mean, z_logvar, z, pz_mean\n"
   ]
  },
  {
   "cell_type": "code",
   "execution_count": 6,
   "metadata": {},
   "outputs": [],
   "source": [
    "class Decoder(nn.Module):\n",
    "    def __init__(self, input_shape_x, intermediate_dim, latent_dim):\n",
    "        super(Decoder, self).__init__()\n",
    "        self.fc1 = nn.Linear(latent_dim, intermediate_dim)\n",
    "        self.act1 = nn.Tanh()\n",
    "        self.fc2 = nn.Linear(intermediate_dim, 128)\n",
    "        self.act2 = nn.Tanh()\n",
    "        self.fc3 = nn.Linear(128, input_shape_x)\n",
    "\n",
    "    \n",
    "    def forward(self, x):\n",
    "        x = self.act1(self.fc1(x))\n",
    "        x = self.act2(self.fc2(x))\n",
    "        x = self.fc3(x)\n",
    "        return x "
   ]
  },
  {
   "cell_type": "markdown",
   "metadata": {},
   "source": [
    "## Dataset "
   ]
  },
  {
   "cell_type": "code",
   "execution_count": 7,
   "metadata": {},
   "outputs": [],
   "source": [
    "class VAEDataset(Dataset):\n",
    "    def __init__(self, images, labels):\n",
    "        self.images = torch.Tensor(images)\n",
    "        self.labels = torch.Tensor(labels) \n",
    "    def __len__(self):\n",
    "        return len(self.images)\n",
    "    def __getitem__(self, idx):\n",
    "        imgs = self.images[idx]\n",
    "        lbls = self.labels[idx]\n",
    "        return imgs, lbls "
   ]
  },
  {
   "cell_type": "markdown",
   "metadata": {},
   "source": [
    "## Hyperparameters"
   ]
  },
  {
   "cell_type": "code",
   "execution_count": 8,
   "metadata": {},
   "outputs": [],
   "source": [
    "\n",
    "intermidiate_dim = 32\n",
    "batch_size = 64\n",
    "latent_dim = 8\n",
    "epochs = 100\n",
    "lr = 0.001\n",
    "mse = nn.MSELoss()"
   ]
  },
  {
   "cell_type": "markdown",
   "metadata": {},
   "source": [
    "## Loss Function"
   ]
  },
  {
   "cell_type": "code",
   "execution_count": 9,
   "metadata": {},
   "outputs": [],
   "source": [
    "def loss_function(inputs_x, outputs, inputs_r, r_mean, r_logvar, z_mean, z_log_var,  pz_mean):\n",
    "    \n",
    "    reconstruction_loss = mse(inputs_x, outputs)\n",
    "    kl_loss = 1 + z_logvar - torch.square(z_mean - pz_mean) - torch.exp(z_logvar)\n",
    "    kl_loss = -0.5 * torch.sum(kl_loss) \n",
    "        \n",
    "    label_loss = torch.divide(0.5 * torch.square(r_mean - inputs_r), torch.exp(r_logvar)) +  0.5 * r_logvar\n",
    "    return torch.mean(reconstruction_loss + kl_loss + label_loss)"
   ]
  },
  {
   "cell_type": "code",
   "execution_count": 10,
   "metadata": {},
   "outputs": [
    {
     "name": "stdout",
     "output_type": "stream",
     "text": [
      "Number of records: 245\n"
     ]
    }
   ],
   "source": [
    "print('Number of records:', len(ground_truth_r)) \n",
    "ground_truth_r = np.array(ground_truth_r).reshape(-1, 1)"
   ]
  },
  {
   "cell_type": "markdown",
   "metadata": {},
   "source": [
    "## Training"
   ]
  },
  {
   "cell_type": "code",
   "execution_count": 20,
   "metadata": {},
   "outputs": [
    {
     "name": "stdout",
     "output_type": "stream",
     "text": [
      "Epoch: 0    VAE Loss: 104.37326049804688    RMSE Loss: 1.1714345216751099\n",
      "Epoch: 10    VAE Loss: 45.729007720947266    RMSE Loss: 1.1291172504425049\n",
      "Epoch: 20    VAE Loss: 17.79792594909668    RMSE Loss: 1.1326619386672974\n",
      "Epoch: 30    VAE Loss: 8.436037063598633    RMSE Loss: 0.9967140555381775\n",
      "Epoch: 40    VAE Loss: 5.267631530761719    RMSE Loss: 0.8740195631980896\n",
      "Epoch: 50    VAE Loss: 3.2219502925872803    RMSE Loss: 0.7567912936210632\n",
      "Epoch: 60    VAE Loss: 4.188970565795898    RMSE Loss: 0.6055945754051208\n",
      "Epoch: 70    VAE Loss: 3.2629735469818115    RMSE Loss: 0.5128297209739685\n",
      "Epoch: 80    VAE Loss: 3.049074649810791    RMSE Loss: 0.49603456258773804\n",
      "Epoch: 90    VAE Loss: 1.8581781387329102    RMSE Loss: 0.4817834794521332\n",
      "Epoch: 0    VAE Loss: 53.50348663330078    RMSE Loss: 1.3016666173934937\n",
      "Epoch: 10    VAE Loss: 28.882312774658203    RMSE Loss: 1.1154671907424927\n",
      "Epoch: 20    VAE Loss: 11.46256160736084    RMSE Loss: 1.1098235845565796\n",
      "Epoch: 30    VAE Loss: 7.331005096435547    RMSE Loss: 1.005534052848816\n",
      "Epoch: 40    VAE Loss: 4.428104400634766    RMSE Loss: 0.8417859077453613\n",
      "Epoch: 50    VAE Loss: 3.8349921703338623    RMSE Loss: 0.6759251356124878\n",
      "Epoch: 60    VAE Loss: 2.379246950149536    RMSE Loss: 0.5773309469223022\n",
      "Epoch: 70    VAE Loss: 2.2935242652893066    RMSE Loss: 0.5563255548477173\n",
      "Epoch: 80    VAE Loss: 2.276029109954834    RMSE Loss: 0.5861361026763916\n",
      "Epoch: 90    VAE Loss: 1.2010951042175293    RMSE Loss: 0.5802598595619202\n",
      "Epoch: 0    VAE Loss: 156.9102783203125    RMSE Loss: 1.2379881143569946\n",
      "Epoch: 10    VAE Loss: 38.57234573364258    RMSE Loss: 1.1712310314178467\n",
      "Epoch: 20    VAE Loss: 16.684303283691406    RMSE Loss: 1.0716147422790527\n",
      "Epoch: 30    VAE Loss: 17.115215301513672    RMSE Loss: 0.983031153678894\n",
      "Epoch: 40    VAE Loss: 6.676395893096924    RMSE Loss: 0.8749315142631531\n",
      "Epoch: 50    VAE Loss: 6.319205284118652    RMSE Loss: 0.7769032120704651\n",
      "Epoch: 60    VAE Loss: 5.860671043395996    RMSE Loss: 0.6745496392250061\n",
      "Epoch: 70    VAE Loss: 3.6272051334381104    RMSE Loss: 0.6560482382774353\n",
      "Epoch: 80    VAE Loss: 4.593939781188965    RMSE Loss: 0.6191704273223877\n",
      "Epoch: 90    VAE Loss: 3.2345328330993652    RMSE Loss: 0.6450462937355042\n",
      "Epoch: 0    VAE Loss: 73.57099914550781    RMSE Loss: 1.0094282627105713\n",
      "Epoch: 10    VAE Loss: 44.676795959472656    RMSE Loss: 0.9728372097015381\n",
      "Epoch: 20    VAE Loss: 15.697159767150879    RMSE Loss: 0.9688531160354614\n",
      "Epoch: 30    VAE Loss: 8.627452850341797    RMSE Loss: 0.8787851929664612\n",
      "Epoch: 40    VAE Loss: 7.119272708892822    RMSE Loss: 0.8509013652801514\n",
      "Epoch: 50    VAE Loss: 4.742595672607422    RMSE Loss: 0.7648517489433289\n",
      "Epoch: 60    VAE Loss: 4.7716064453125    RMSE Loss: 0.6592186093330383\n",
      "Epoch: 70    VAE Loss: 4.098104953765869    RMSE Loss: 0.6385039687156677\n",
      "Epoch: 80    VAE Loss: 4.494363784790039    RMSE Loss: 0.6087359189987183\n",
      "Epoch: 90    VAE Loss: 2.4094033241271973    RMSE Loss: 0.5815778374671936\n",
      "Epoch: 0    VAE Loss: 54.02621841430664    RMSE Loss: 0.9136994481086731\n",
      "Epoch: 10    VAE Loss: 31.589008331298828    RMSE Loss: 0.9299793839454651\n",
      "Epoch: 20    VAE Loss: 12.478261947631836    RMSE Loss: 0.8924106359481812\n",
      "Epoch: 30    VAE Loss: 4.758127212524414    RMSE Loss: 0.8328453302383423\n",
      "Epoch: 40    VAE Loss: 4.934633731842041    RMSE Loss: 0.6718443036079407\n",
      "Epoch: 50    VAE Loss: 3.9865825176239014    RMSE Loss: 0.5769985914230347\n",
      "Epoch: 60    VAE Loss: 2.3876991271972656    RMSE Loss: 0.5402302742004395\n",
      "Epoch: 70    VAE Loss: 2.0981600284576416    RMSE Loss: 0.47592902183532715\n",
      "Epoch: 80    VAE Loss: 1.8947421312332153    RMSE Loss: 0.5029050707817078\n",
      "Epoch: 90    VAE Loss: 1.6294218301773071    RMSE Loss: 0.5126144886016846\n",
      "Epoch: 0    VAE Loss: 104.93302154541016    RMSE Loss: 1.0559279918670654\n",
      "Epoch: 10    VAE Loss: 53.7499885559082    RMSE Loss: 1.1100023984909058\n",
      "Epoch: 20    VAE Loss: 11.858063697814941    RMSE Loss: 1.017580509185791\n",
      "Epoch: 30    VAE Loss: 6.950981140136719    RMSE Loss: 0.9306448698043823\n",
      "Epoch: 40    VAE Loss: 5.5842156410217285    RMSE Loss: 0.7969650626182556\n",
      "Epoch: 50    VAE Loss: 5.285781383514404    RMSE Loss: 0.7029680609703064\n",
      "Epoch: 60    VAE Loss: 2.7133147716522217    RMSE Loss: 0.6497582197189331\n",
      "Epoch: 70    VAE Loss: 3.452312469482422    RMSE Loss: 0.6421576142311096\n",
      "Epoch: 80    VAE Loss: 2.852107286453247    RMSE Loss: 0.6183915138244629\n",
      "Epoch: 90    VAE Loss: 3.3626441955566406    RMSE Loss: 0.7524998188018799\n",
      "Epoch: 0    VAE Loss: 76.38682556152344    RMSE Loss: 0.9901486039161682\n",
      "Epoch: 10    VAE Loss: 43.71389389038086    RMSE Loss: 0.9286063313484192\n",
      "Epoch: 20    VAE Loss: 15.037556648254395    RMSE Loss: 0.8593321442604065\n",
      "Epoch: 30    VAE Loss: 13.930173873901367    RMSE Loss: 0.7749994397163391\n",
      "Epoch: 40    VAE Loss: 8.747084617614746    RMSE Loss: 0.733582615852356\n",
      "Epoch: 50    VAE Loss: 5.168948650360107    RMSE Loss: 0.605019211769104\n",
      "Epoch: 60    VAE Loss: 4.250791072845459    RMSE Loss: 0.5990190505981445\n",
      "Epoch: 70    VAE Loss: 5.4961771965026855    RMSE Loss: 0.5185036659240723\n",
      "Epoch: 80    VAE Loss: 3.3821771144866943    RMSE Loss: 0.5102851390838623\n",
      "Epoch: 90    VAE Loss: 2.0728487968444824    RMSE Loss: 0.5274531245231628\n",
      "Epoch: 0    VAE Loss: 47.6393928527832    RMSE Loss: 0.77274489402771\n",
      "Epoch: 10    VAE Loss: 30.35506248474121    RMSE Loss: 0.7496025562286377\n",
      "Epoch: 20    VAE Loss: 11.11225414276123    RMSE Loss: 0.7112865447998047\n",
      "Epoch: 30    VAE Loss: 7.524460792541504    RMSE Loss: 0.7004244923591614\n",
      "Epoch: 40    VAE Loss: 4.983592510223389    RMSE Loss: 0.6819106936454773\n",
      "Epoch: 50    VAE Loss: 5.397843837738037    RMSE Loss: 0.6527528762817383\n",
      "Epoch: 60    VAE Loss: 2.8942034244537354    RMSE Loss: 0.6385432481765747\n",
      "Epoch: 70    VAE Loss: 2.228684186935425    RMSE Loss: 0.6826425194740295\n",
      "Epoch: 80    VAE Loss: 2.178459405899048    RMSE Loss: 0.6710036993026733\n",
      "Epoch: 90    VAE Loss: 1.4248099327087402    RMSE Loss: 0.6445257663726807\n",
      "Epoch: 0    VAE Loss: 127.85649871826172    RMSE Loss: 0.7692788243293762\n",
      "Epoch: 10    VAE Loss: 40.137996673583984    RMSE Loss: 0.7409088611602783\n",
      "Epoch: 20    VAE Loss: 15.089848518371582    RMSE Loss: 0.7590731382369995\n",
      "Epoch: 30    VAE Loss: 7.098190784454346    RMSE Loss: 0.6706996560096741\n",
      "Epoch: 40    VAE Loss: 5.549780368804932    RMSE Loss: 0.6302051544189453\n",
      "Epoch: 50    VAE Loss: 4.458250045776367    RMSE Loss: 0.6197691559791565\n",
      "Epoch: 60    VAE Loss: 4.019287586212158    RMSE Loss: 0.5710580348968506\n",
      "Epoch: 70    VAE Loss: 3.4595277309417725    RMSE Loss: 0.5076035261154175\n",
      "Epoch: 80    VAE Loss: 2.7945199012756348    RMSE Loss: 0.5890281796455383\n",
      "Epoch: 90    VAE Loss: 2.3836898803710938    RMSE Loss: 0.6075828075408936\n",
      "Epoch: 0    VAE Loss: 77.59270477294922    RMSE Loss: 0.8720975518226624\n",
      "Epoch: 10    VAE Loss: 35.8665885925293    RMSE Loss: 0.9286821484565735\n",
      "Epoch: 20    VAE Loss: 16.601133346557617    RMSE Loss: 0.8295450210571289\n",
      "Epoch: 30    VAE Loss: 8.181401252746582    RMSE Loss: 0.7976718544960022\n",
      "Epoch: 40    VAE Loss: 7.014893531799316    RMSE Loss: 0.6937357187271118\n",
      "Epoch: 50    VAE Loss: 6.469922065734863    RMSE Loss: 0.6122053861618042\n",
      "Epoch: 60    VAE Loss: 3.3950705528259277    RMSE Loss: 0.43639692664146423\n",
      "Epoch: 70    VAE Loss: 2.780848264694214    RMSE Loss: 0.4340840280056\n",
      "Epoch: 80    VAE Loss: 4.26198673248291    RMSE Loss: 0.44990745186805725\n",
      "Epoch: 90    VAE Loss: 3.191833972930908    RMSE Loss: 0.44701486825942993\n"
     ]
    }
   ],
   "source": [
    "\n",
    "np.random.seed(0)\n",
    "skf = StratifiedKFold(n_splits=10)\n",
    "pred = np.zeros((ground_truth_r.shape))\n",
    "fake = np.zeros((ground_truth_r.shape[0]))\n",
    "fake[:300] = 1\n",
    "\n",
    "\n",
    "# Run 10-fold CV\n",
    "for train_idx, test_idx in skf.split(training_feature, fake):\n",
    "    \n",
    "    encoder = Encoder(original_dim, 32, 8).to(device)\n",
    "    decoder = Decoder(original_dim, 32, 8).to(device)     \n",
    "    \n",
    "    optim_params = list(encoder.parameters()) + list(decoder.parameters())\n",
    "    optimizer = torch.optim.Adam(optim_params , lr=lr)\n",
    "    \n",
    "    training_feature_sk = training_feature[train_idx,:]\n",
    "    training_score = ground_truth_r[train_idx]\n",
    "    testing_feature_sk = training_feature[test_idx,:]\n",
    "    testing_score = ground_truth_r[test_idx]    \n",
    "    \n",
    "    train = VAEDataset(training_feature_sk, training_score)\n",
    "    test = VAEDataset(testing_feature_sk, testing_score)\n",
    "    train_dataloader = DataLoader(train, batch_size=batch_size, shuffle=True) \n",
    "    test_dataloader = DataLoader(test, batch_size=batch_size, shuffle=False)     \n",
    "    \n",
    "    for epoch in range(epochs):\n",
    "        \n",
    "        for idx, data in enumerate(train_dataloader):\n",
    "        \n",
    "            imgs, labels = data\n",
    "            imgs = imgs.to(device)\n",
    "            labels = labels.to(device)\n",
    "            \n",
    "            r_mean, r_logvar, r, z_mean, z_logvar, z, pz_mean = encoder(imgs) \n",
    "            \n",
    "            recon_imgs = decoder(z)\n",
    "            \n",
    "            #print(r_mean.shape, labels.shape)\n",
    "            \n",
    "            vae_loss = loss_function(imgs, recon_imgs, labels, r_mean, r_logvar, z_mean, z_logvar, pz_mean)\n",
    "            \n",
    "            optimizer.zero_grad()\n",
    "            \n",
    "            vae_loss.backward()\n",
    "            \n",
    "            optimizer.step()\n",
    "            \n",
    "        with torch.no_grad():\n",
    "\n",
    "            x = torch.Tensor(testing_feature_sk).to(device)\n",
    "            r_mean, r_logvar, r, z_mean, z_logvar, z, pz_mean = encoder(x)\n",
    "\n",
    "            pred[test_idx] = r_mean.cpu().detach()\n",
    "            rmse_loss = np.sqrt(mse(r_mean.cpu().detach(), torch.Tensor(testing_score)))\n",
    "            \n",
    "            if epoch % 10 == 0:\n",
    "            \n",
    "                print(f'Epoch: {epoch}    VAE Loss: {vae_loss}    RMSE Loss: {rmse_loss}')\n",
    "            "
   ]
  },
  {
   "cell_type": "markdown",
   "metadata": {},
   "source": [
    "## Validation"
   ]
  },
  {
   "cell_type": "code",
   "execution_count": 21,
   "metadata": {},
   "outputs": [
    {
     "name": "stdout",
     "output_type": "stream",
     "text": [
      "Mean squared error: 0.338\n",
      "R2 Variance score: 0.661\n"
     ]
    },
    {
     "data": {
      "image/png": "[encoded data removed]",
      "text/plain": [
       "<Figure size 640x480 with 1 Axes>"
      ]
     },
     "metadata": {},
     "output_type": "display_data"
    }
   ],
   "source": [
    "# Mean squared error\n",
    "print(\"Mean squared error: %.3f\" % mean_squared_error(ground_truth_r, pred))\n",
    "# Explained variance score: 1 is perfect prediction\n",
    "print('R2 Variance score: %.3f' % r2_score(ground_truth_r, pred))\n",
    "\n",
    "# Plot Prediction vs. Ground-truth Y\n",
    "fig = plt.figure()\n",
    "ax = fig.add_subplot(111)\n",
    "\n",
    "ax.scatter(ground_truth_r, pred,  color='black')\n",
    "plt.xlabel('ground truth')\n",
    "plt.ylabel('prediction truth')\n",
    "ax.axis('equal');"
   ]
  },
  {
   "cell_type": "markdown",
   "metadata": {},
   "source": [
    "## Visualize Latent Space\n"
   ]
  },
  {
   "cell_type": "code",
   "execution_count": 22,
   "metadata": {},
   "outputs": [],
   "source": [
    "r_mean, r_logvar, r, z_mean, z_logvar, z, pz_mean = encoder(torch.Tensor(training_feature).to(device)) "
   ]
  },
  {
   "cell_type": "code",
   "execution_count": 23,
   "metadata": {},
   "outputs": [
    {
     "data": {
      "image/png": "[encoded data removed]",
      "text/plain": [
       "<Figure size 640x480 with 1 Axes>"
      ]
     },
     "metadata": {},
     "output_type": "display_data"
    }
   ],
   "source": [
    "\n",
    "tsne = MDS(n_components=2, random_state=0)\n",
    "X_2d = tsne.fit_transform(z_mean.cpu().detach())\n",
    "\n",
    "#%matplotlib notebook\n",
    "fig = plt.figure()\n",
    "ax = fig.add_subplot(111)\n",
    "\n",
    "ax.scatter(X_2d[:, 0], X_2d[:, 1], c=ground_truth_r)\n",
    "plt.title('TSNE visualization of latent space')\n",
    "ax.axis('equal')\n",
    "\n",
    "## Train the network\n",
    "np.random.seed(0)\n",
    "skf = StratifiedKFold(n_splits=10)\n",
    "pred = np.zeros((ground_truth_r.shape))\n",
    "fake = np.zeros((ground_truth_r.shape[0]))\n",
    "fake[:300] = 1\n"
   ]
  },
  {
   "cell_type": "markdown",
   "metadata": {},
   "source": [
    "## Reference\n",
    "\n",
    "- https://github.com/yoonsanghyu/VAE_for_regression_PyTorch"
   ]
  }
 ],
 "metadata": {
  "kernelspec": {
   "display_name": "Python 3 (ipykernel)",
   "language": "python",
   "name": "python3"
  },
  "language_info": {
   "codemirror_mode": {
    "name": "ipython",
    "version": 3
   },
   "file_extension": ".py",
   "mimetype": "text/x-python",
   "name": "python",
   "nbconvert_exporter": "python",
   "pygments_lexer": "ipython3",
   "version": "3.10.13"
  }
 },
 "nbformat": 4,
 "nbformat_minor": 2
}
